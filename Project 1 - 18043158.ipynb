{
 "cells": [
  {
   "cell_type": "markdown",
   "metadata": {},
   "source": [
    "# <center>Project 1 Exploring the house prices of Auckland and Wellington area</center>"
   ]
  },
  {
   "cell_type": "markdown",
   "metadata": {},
   "source": [
    "### <center>Yonggang Li (18043158)</center>"
   ]
  },
  {
   "cell_type": "markdown",
   "metadata": {},
   "source": [
    "## Introduction "
   ]
  },
  {
   "cell_type": "markdown",
   "metadata": {},
   "source": [
    "New Zealand real estate price has soared in the past 5 years and gained the most attention of the people of all circles. In this project, the average house prices since 2013 of different areas of the two biggest cities of the country, Auckland and Wellington, are explored. The characteristics of the prices are researched, the trend and the return of investment for the two areas are compared. \n",
    "A few numbers of the data sets are dropped and imputed for practice purpose, please check https://www.enz.org/house-prices-auckland.html and https://www.enz.org/house-prices-wellington.html for the original."
   ]
  },
  {
   "cell_type": "markdown",
   "metadata": {},
   "source": [
    "### Import necessary data analysis libraries"
   ]
  },
  {
   "cell_type": "code",
   "execution_count": 2,
   "metadata": {
    "collapsed": true
   },
   "outputs": [],
   "source": [
    "import pandas as pd\n",
    "import numpy as np\n",
    "import matplotlib\n",
    "import matplotlib.pyplot as plt\n",
    "import seaborn as sns"
   ]
  },
  {
   "cell_type": "code",
   "execution_count": 3,
   "metadata": {
    "collapsed": false
   },
   "outputs": [],
   "source": [
    "from pylab import rcParams\n",
    "rcParams['figure.dpi'] = 350\n",
    "rcParams['lines.linewidth'] = 2\n",
    "rcParams['figure.figsize'] = 20, 15\n",
    "rcParams['font.size'] = 24\n",
    "rcParams['axes.facecolor'] = 'white'\n",
    "\n",
    "%matplotlib inline\n",
    "\n",
    "pd.set_option('html', True)"
   ]
  },
  {
   "cell_type": "markdown",
   "metadata": {},
   "source": [
    "### Load and display the data\n",
    "* <b>Load data from sheet 'Auckland' and 'Wellington' of MS Excel file\n",
    "* <b>Concatenate these two data sets into one\n",
    "* <b>Display the first 5 rows"
   ]
  },
  {
   "cell_type": "code",
   "execution_count": 10,
   "metadata": {
    "collapsed": false,
    "scrolled": true
   },
   "outputs": [
    {
     "data": {
      "text/html": [
       "<div>\n",
       "<table border=\"1\" class=\"dataframe\">\n",
       "  <thead>\n",
       "    <tr style=\"text-align: right;\">\n",
       "      <th></th>\n",
       "      <th>Location</th>\n",
       "      <th>2017</th>\n",
       "      <th>2016</th>\n",
       "      <th>2015</th>\n",
       "      <th>2014</th>\n",
       "      <th>2013</th>\n",
       "    </tr>\n",
       "  </thead>\n",
       "  <tbody>\n",
       "    <tr>\n",
       "      <th>0</th>\n",
       "      <td>Auckland North Shore - Coastal</td>\n",
       "      <td>1370000</td>\n",
       "      <td>1269000</td>\n",
       "      <td>1113000</td>\n",
       "      <td>979000</td>\n",
       "      <td>861000</td>\n",
       "    </tr>\n",
       "    <tr>\n",
       "      <th>1</th>\n",
       "      <td>Auckland North Shore - Onewa</td>\n",
       "      <td>954000</td>\n",
       "      <td>888000</td>\n",
       "      <td>779000</td>\n",
       "      <td>NaN</td>\n",
       "      <td>586000</td>\n",
       "    </tr>\n",
       "    <tr>\n",
       "      <th>2</th>\n",
       "      <td>Auckland North Shore - North Harbour</td>\n",
       "      <td>1184000</td>\n",
       "      <td>1090000</td>\n",
       "      <td>934000</td>\n",
       "      <td>819000</td>\n",
       "      <td>716000</td>\n",
       "    </tr>\n",
       "    <tr>\n",
       "      <th>3</th>\n",
       "      <td>Waitakere City</td>\n",
       "      <td>826000</td>\n",
       "      <td>NaN</td>\n",
       "      <td>657000</td>\n",
       "      <td>558000</td>\n",
       "      <td>482000</td>\n",
       "    </tr>\n",
       "    <tr>\n",
       "      <th>4</th>\n",
       "      <td>Auckland Central City</td>\n",
       "      <td>1076000</td>\n",
       "      <td>982000</td>\n",
       "      <td>856000</td>\n",
       "      <td>758000</td>\n",
       "      <td>685000</td>\n",
       "    </tr>\n",
       "  </tbody>\n",
       "</table>\n",
       "</div>"
      ],
      "text/plain": [
       "                               Location     2017     2016     2015    2014  \\\n",
       "0        Auckland North Shore - Coastal  1370000  1269000  1113000  979000   \n",
       "1          Auckland North Shore - Onewa   954000   888000   779000     NaN   \n",
       "2  Auckland North Shore - North Harbour  1184000  1090000   934000  819000   \n",
       "3                        Waitakere City   826000      NaN   657000  558000   \n",
       "4                 Auckland Central City  1076000   982000   856000  758000   \n",
       "\n",
       "     2013  \n",
       "0  861000  \n",
       "1  586000  \n",
       "2  716000  \n",
       "3  482000  \n",
       "4  685000  "
      ]
     },
     "execution_count": 10,
     "metadata": {},
     "output_type": "execute_result"
    }
   ],
   "source": [
    "auckland = pd.read_excel('house_price.xlsx', sheetname='Auckland', na_values=[\".\", \"\", \"NA\"])\n",
    "wellington = pd.read_excel('house_price.xlsx', sheetname='Wellington', na_values=[\".\", \"\", \"NA\"])\n",
    "house_price = pd.concat([auckland, wellington], ignore_index=True)\n",
    "house_price.columns = ['Location', '2017', '2016', '2015', '2014', '2013']\n",
    "house_price.head(5)"
   ]
  },
  {
   "cell_type": "markdown",
   "metadata": {},
   "source": [
    "### Missing values imputation\n",
    "* <b>Display all observations that missed some values"
   ]
  },
  {
   "cell_type": "code",
   "execution_count": 11,
   "metadata": {
    "collapsed": false
   },
   "outputs": [
    {
     "data": {
      "text/html": [
       "<div>\n",
       "<table border=\"1\" class=\"dataframe\">\n",
       "  <thead>\n",
       "    <tr style=\"text-align: right;\">\n",
       "      <th></th>\n",
       "      <th>Location</th>\n",
       "      <th>2017</th>\n",
       "      <th>2016</th>\n",
       "      <th>2015</th>\n",
       "      <th>2014</th>\n",
       "      <th>2013</th>\n",
       "    </tr>\n",
       "  </thead>\n",
       "  <tbody>\n",
       "    <tr>\n",
       "      <th>1</th>\n",
       "      <td>Auckland North Shore - Onewa</td>\n",
       "      <td>954000</td>\n",
       "      <td>888000</td>\n",
       "      <td>779000</td>\n",
       "      <td>NaN</td>\n",
       "      <td>586000</td>\n",
       "    </tr>\n",
       "    <tr>\n",
       "      <th>3</th>\n",
       "      <td>Waitakere City</td>\n",
       "      <td>826000</td>\n",
       "      <td>NaN</td>\n",
       "      <td>657000</td>\n",
       "      <td>558000</td>\n",
       "      <td>482000</td>\n",
       "    </tr>\n",
       "    <tr>\n",
       "      <th>7</th>\n",
       "      <td>Auckland City - Islands</td>\n",
       "      <td>1074000</td>\n",
       "      <td>933000</td>\n",
       "      <td>835000</td>\n",
       "      <td>NaN</td>\n",
       "      <td>683000</td>\n",
       "    </tr>\n",
       "  </tbody>\n",
       "</table>\n",
       "</div>"
      ],
      "text/plain": [
       "                       Location     2017    2016    2015    2014    2013\n",
       "1  Auckland North Shore - Onewa   954000  888000  779000     NaN  586000\n",
       "3                Waitakere City   826000     NaN  657000  558000  482000\n",
       "7       Auckland City - Islands  1074000  933000  835000     NaN  683000"
      ]
     },
     "execution_count": 11,
     "metadata": {},
     "output_type": "execute_result"
    }
   ],
   "source": [
    "def contains_nan(df):\n",
    "    hasNaN = False\n",
    "    for year in df.columns[1:]:\n",
    "        hasNaN |= df[year].isnull();\n",
    "    return hasNaN\n",
    "\n",
    "house_price[contains_nan(house_price)]"
   ]
  },
  {
   "cell_type": "markdown",
   "metadata": {},
   "source": [
    "The prices missed for 2014 and 2016 in three area. The average of the previous and next year is used to fill the missing value."
   ]
  },
  {
   "cell_type": "markdown",
   "metadata": {},
   "source": [
    "* <b>Fill the missing value with the average of its left and right neighabours"
   ]
  },
  {
   "cell_type": "code",
   "execution_count": 12,
   "metadata": {
    "collapsed": false
   },
   "outputs": [
    {
     "data": {
      "text/plain": [
       "Location    Auckland North Shore - Onewa\n",
       "2017                              954000\n",
       "2016                              888000\n",
       "2015                              779000\n",
       "2014                              737000\n",
       "2013                              586000\n",
       "Name: 1, dtype: object"
      ]
     },
     "execution_count": 12,
     "metadata": {},
     "output_type": "execute_result"
    }
   ],
   "source": [
    "def na_value(df, left_col, right_col):\n",
    "    return (df[left_col] + df[right_col])/2\n",
    "\n",
    "house_price['2016'].fillna(value=na_value(house_price, '2017', '2015'), inplace=True)\n",
    "house_price['2014'].fillna(value=na_value(house_price, '2016', '2013'), inplace=True)\n",
    "\n",
    "house_price.iloc[1]"
   ]
  },
  {
   "cell_type": "markdown",
   "metadata": {},
   "source": [
    "### Show me the characteristics of the data, such as min, max, and median by year"
   ]
  },
  {
   "cell_type": "code",
   "execution_count": 13,
   "metadata": {
    "collapsed": false
   },
   "outputs": [
    {
     "data": {
      "text/plain": [
       "<matplotlib.text.Text at 0x21e48a20>"
      ]
     },
     "execution_count": 13,
     "metadata": {},
     "output_type": "execute_result"
    },
    {
     "data": {
      "image/png": "[encoded data removed]",
      "text/plain": [
       "<matplotlib.figure.Figure at 0x21e33ba8>"
      ]
     },
     "metadata": {},
     "output_type": "display_data"
    }
   ],
   "source": [
    "sns.set(style=\"ticks\", font_scale=1.2)\n",
    "house_price.plot(kind='box')\n",
    "plt.title(\"House Prices in Auckland and Wellington \\n\", fontsize=20, alpha=0.5)\n",
    "plt.xlabel('Year', fontsize=16, alpha=0.5)\n",
    "plt.ylabel('Price (NZD)', fontsize=16, alpha=0.5)"
   ]
  },
  {
   "cell_type": "markdown",
   "metadata": {},
   "source": [
    "The plot clearly shows that how the house price changed in the past 5 years. Although the lowest price, around 400,000 NZD, is generally stable, only move up a little in 2017, the highest, the upper and lower quartiles and median have been pulled up dramatically from 1,000,000, 750,000, 450,000 and 600,000 to 1,500,000, 1,150,000, 700,000 and 970,000 respectively."
   ]
  },
  {
   "cell_type": "markdown",
   "metadata": {},
   "source": [
    "### Give me the average house prices by year of Auckland and Wellington region\n",
    "* <b>Calculate the average house price by year for Auckland and Wellington\n",
    "* <b>Sort ascendingly the data by year"
   ]
  },
  {
   "cell_type": "code",
   "execution_count": 14,
   "metadata": {
    "collapsed": false
   },
   "outputs": [
    {
     "data": {
      "text/html": [
       "<div>\n",
       "<table border=\"1\" class=\"dataframe\">\n",
       "  <thead>\n",
       "    <tr style=\"text-align: right;\">\n",
       "      <th></th>\n",
       "      <th>Auckland</th>\n",
       "      <th>Wellington</th>\n",
       "    </tr>\n",
       "  </thead>\n",
       "  <tbody>\n",
       "    <tr>\n",
       "      <th>2013</th>\n",
       "      <td>646909.090909</td>\n",
       "      <td>453500</td>\n",
       "    </tr>\n",
       "    <tr>\n",
       "      <th>2014</th>\n",
       "      <td>744090.909091</td>\n",
       "      <td>469750</td>\n",
       "    </tr>\n",
       "    <tr>\n",
       "      <th>2015</th>\n",
       "      <td>847454.545455</td>\n",
       "      <td>466750</td>\n",
       "    </tr>\n",
       "    <tr>\n",
       "      <th>2016</th>\n",
       "      <td>974590.909091</td>\n",
       "      <td>500750</td>\n",
       "    </tr>\n",
       "    <tr>\n",
       "      <th>2017</th>\n",
       "      <td>1075545.454545</td>\n",
       "      <td>575250</td>\n",
       "    </tr>\n",
       "  </tbody>\n",
       "</table>\n",
       "</div>"
      ],
      "text/plain": [
       "            Auckland  Wellington\n",
       "2013   646909.090909      453500\n",
       "2014   744090.909091      469750\n",
       "2015   847454.545455      466750\n",
       "2016   974590.909091      500750\n",
       "2017  1075545.454545      575250"
      ]
     },
     "execution_count": 14,
     "metadata": {},
     "output_type": "execute_result"
    }
   ],
   "source": [
    "auckland = house_price[house_price['Location'].str.contains('Wellington') == False]\n",
    "auckland_average = auckland[auckland.columns[1:]].apply(np.mean, axis=0).sort_index(ascending=True)\n",
    "wellington = house_price[house_price['Location'].str.contains('Wellington')]\n",
    "wellington_average = wellington[wellington.columns[1:]].apply(np.mean, axis=0).sort_index(ascending=True)\n",
    "average_prices = pd.merge(pd.DataFrame({\"Auckland\":auckland_average}), pd.DataFrame({\"Wellington\":wellington_average}), left_index=True, right_index=True)\n",
    "average_prices"
   ]
  },
  {
   "cell_type": "markdown",
   "metadata": {},
   "source": [
    "* <b>Display the average prices in line chart"
   ]
  },
  {
   "cell_type": "code",
   "execution_count": 15,
   "metadata": {
    "collapsed": false
   },
   "outputs": [
    {
     "data": {
      "text/plain": [
       "<matplotlib.text.Text at 0x221e01d0>"
      ]
     },
     "execution_count": 15,
     "metadata": {},
     "output_type": "execute_result"
    },
    {
     "data": {
      "image/png": "[encoded data removed]",
      "text/plain": [
       "<matplotlib.figure.Figure at 0x2209f5c0>"
      ]
     },
     "metadata": {},
     "output_type": "display_data"
    }
   ],
   "source": [
    "average_prices.plot()\n",
    "plt.xticks(rotation=0, fontsize=20)\n",
    "plt.title(\"Yearly Average House Prices in Auckland and Wellington \\n\", fontsize=20, alpha=0.5)\n",
    "plt.xlabel('Year', fontsize=16, alpha=0.5)\n",
    "plt.ylabel('Price (NZD)', fontsize=16, alpha=0.5)"
   ]
  },
  {
   "cell_type": "markdown",
   "metadata": {},
   "source": [
    "From the above curve, we can see that the average house prices in Auckland since 2013 have been increasing steadily and form a perfect trend-line. The average prices in Wellington are much lower and rised gently before 2015 and then gained accelearated. However, the price gap between Auckland and Wellington is still getting bigger."
   ]
  },
  {
   "cell_type": "markdown",
   "metadata": {},
   "source": [
    "### Which area gives the people maximum return if invested on a house in 2013\n",
    "* <b>Create a new column \"ROI\" which will be calcualte by formula ROI = p2017/p2013 -1\n",
    "* <b>Create a new column \"ROI\" which will be yearly compounded growth and calcualte by formula CAGR = power(p2017/p2013, 1/4)-1\n",
    "* <b>Sort the ROI descendingly"
   ]
  },
  {
   "cell_type": "code",
   "execution_count": 27,
   "metadata": {
    "collapsed": false
   },
   "outputs": [
    {
     "data": {
      "text/html": [
       "<div>\n",
       "<table border=\"1\" class=\"dataframe\">\n",
       "  <thead>\n",
       "    <tr style=\"text-align: right;\">\n",
       "      <th></th>\n",
       "      <th>Location</th>\n",
       "      <th>ROI</th>\n",
       "      <th>CAGR</th>\n",
       "    </tr>\n",
       "  </thead>\n",
       "  <tbody>\n",
       "    <tr>\n",
       "      <th>10</th>\n",
       "      <td>Manukau - North West</td>\n",
       "      <td>83.847981</td>\n",
       "      <td>16.443357</td>\n",
       "    </tr>\n",
       "    <tr>\n",
       "      <th>8</th>\n",
       "      <td>Manukau - East</td>\n",
       "      <td>82.853026</td>\n",
       "      <td>16.285493</td>\n",
       "    </tr>\n",
       "    <tr>\n",
       "      <th>9</th>\n",
       "      <td>Manukau - Central</td>\n",
       "      <td>72.727273</td>\n",
       "      <td>14.641069</td>\n",
       "    </tr>\n",
       "    <tr>\n",
       "      <th>3</th>\n",
       "      <td>Waitakere City</td>\n",
       "      <td>71.369295</td>\n",
       "      <td>14.415076</td>\n",
       "    </tr>\n",
       "    <tr>\n",
       "      <th>5</th>\n",
       "      <td>Auckland City - East</td>\n",
       "      <td>65.472313</td>\n",
       "      <td>13.417830</td>\n",
       "    </tr>\n",
       "  </tbody>\n",
       "</table>\n",
       "</div>"
      ],
      "text/plain": [
       "                Location        ROI       CAGR\n",
       "10  Manukau - North West  83.847981  16.443357\n",
       "8         Manukau - East  82.853026  16.285493\n",
       "9      Manukau - Central  72.727273  14.641069\n",
       "3         Waitakere City  71.369295  14.415076\n",
       "5   Auckland City - East  65.472313  13.417830"
      ]
     },
     "execution_count": 27,
     "metadata": {},
     "output_type": "execute_result"
    }
   ],
   "source": [
    "house_price['ROI'] = 100*(house_price['2017']/house_price['2013'] - 1) \n",
    "house_price['CAGR'] = 100*(np.power(house_price['2017']/house_price['2013'], 1.0/4) - 1) \n",
    "roi = house_price[['Location','ROI', 'CAGR']].sort_values(ascending=False, by='ROI')\n",
    "roi.head(5)"
   ]
  },
  {
   "cell_type": "markdown",
   "metadata": {},
   "source": [
    "The top five Return Of Investment (ROI) and Compounded Average Growth Rate (CAGR)"
   ]
  },
  {
   "cell_type": "markdown",
   "metadata": {},
   "source": [
    "* <b>Use bar char to display the highest and lowest 3 ROIs "
   ]
  },
  {
   "cell_type": "code",
   "execution_count": 31,
   "metadata": {
    "collapsed": false
   },
   "outputs": [
    {
     "name": "stdout",
     "output_type": "stream",
     "text": [
      "                   Location        ROI       CAGR\n",
      "0      Manukau - North West  83.847981  16.443357\n",
      "1            Manukau - East  82.853026  16.285493\n",
      "2         Manukau - Central  72.727273  14.641069\n",
      "3      Wellington – Eastern  30.018083   6.782710\n",
      "4  Wellington – Hutt Valley  28.735632   6.518414\n",
      "5      Wellington – Central  14.666667   3.480685\n"
     ]
    }
   ],
   "source": [
    "top_bottom_3 = pd.concat([roi.head(3), roi.tail(3)], ignore_index=True)\n",
    "print top_bottom_3\n"
   ]
  },
  {
   "cell_type": "markdown",
   "metadata": {},
   "source": [
    "The top and the bottom three ROI and CAGR."
   ]
  },
  {
   "cell_type": "code",
   "execution_count": 34,
   "metadata": {
    "collapsed": false,
    "scrolled": false
   },
   "outputs": [
    {
     "data": {
      "text/plain": [
       "<matplotlib.text.Text at 0x23692400>"
      ]
     },
     "execution_count": 34,
     "metadata": {},
     "output_type": "execute_result"
    },
    {
     "data": {
      "image/png": "[encoded data removed]",
      "text/plain": [
       "<matplotlib.figure.Figure at 0x24fd27f0>"
      ]
     },
     "metadata": {},
     "output_type": "display_data"
    }
   ],
   "source": [
    "top_bottom_3.plot(kind='bar', x='Location', y='ROI', color='blue', alpha=0.5, rot=30)\n",
    "plt.title(\"The 3 heghest and lowest average ROI\\n\", fontsize=16, alpha=0.5)\n",
    "plt.ylabel('ROI', fontsize=16)\n",
    "plt.xlabel('Location', fontsize=16)"
   ]
  },
  {
   "cell_type": "markdown",
   "metadata": {},
   "source": [
    "As the above figure shows that the houses in Manukau reward the investors most, the most attactive areas are north east, east and central in order. Meanwhile, if the investors put their money to Wellington, especially in the central area, their gains may be just better than letting their money sleep in bank. "
   ]
  },
  {
   "cell_type": "markdown",
   "metadata": {},
   "source": [
    "## Conclusion"
   ]
  },
  {
   "cell_type": "markdown",
   "metadata": {
    "collapsed": true
   },
   "source": [
    "Auckland house price increased at a shocking compounded growth rate, since 2013 the price in north west of Manukau almost doubled and the last, central city, also gained amazing 12% which tops highest area Northern Wellington by 4.5 percent. The central of Wellington is the slowest 3.4% among all these 15 areas, running neck and neck with bank interest. On the other hand, as there is a huge gap between these two biggest cities and the appreciation potential becomes more and more obvious, Wellington migh be a good choice for investors for the next five years.\n"
   ]
  }
 ],
 "metadata": {
  "kernelspec": {
   "display_name": "Python 2",
   "language": "python",
   "name": "python2"
  },
  "language_info": {
   "codemirror_mode": {
    "name": "ipython",
    "version": 2
   },
   "file_extension": ".py",
   "mimetype": "text/x-python",
   "name": "python",
   "nbconvert_exporter": "python",
   "pygments_lexer": "ipython2",
   "version": "2.7.10"
  }
 },
 "nbformat": 4,
 "nbformat_minor": 1
}
