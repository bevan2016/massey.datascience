{
 "cells": [
  {
   "cell_type": "markdown",
   "metadata": {},
   "source": [
    "# Project 3 Costa Rican Household Poverty Level Prediction"
   ]
  },
  {
   "cell_type": "markdown",
   "metadata": {},
   "source": [
    "### <center>Yonggang Li (18043158)</center>"
   ]
  },
  {
   "cell_type": "markdown",
   "metadata": {},
   "source": [
    "### Abstract\n",
    "This notebook introduced ways to explore the observable household attributes from Costa Rican families. The missing values are filled, redudant features are dropped and multiple records for a household are merged into one. Some classifiers, k-means clustering, kNN, Decision Tree, Naive Bayes, Neural Network, and Gradient Boosting, are compared and the best model is selected based on 5-fold cross validation result."
   ]
  },
  {
   "cell_type": "markdown",
   "metadata": {},
   "source": [
    "### Introduction \n",
    "Please check <a herf='https://www.kaggle.com/c/costa-rican-household-poverty-prediction'> Costa Rican Household Poverty Level Prediction</a> for the background details. <br>\n",
    "To run this notebook, sklearn needs to be upgraded to 0.19 or higher, please run the commands to upgrade,<br>\n",
    "* !pip install -U scikit-learn\n",
    "* !python -m pip install --upgrade pip"
   ]
  },
  {
   "cell_type": "markdown",
   "metadata": {},
   "source": [
    "<b>Import necessary data analysis libraries</b>"
   ]
  },
  {
   "cell_type": "code",
   "execution_count": 1,
   "metadata": {
    "collapsed": true
   },
   "outputs": [],
   "source": [
    "import pandas as pd\n",
    "import numpy as np\n",
    "import matplotlib\n",
    "import matplotlib.pyplot as plt\n",
    "import seaborn as sns\n",
    "\n",
    "plt.style.use('fivethirtyeight')\n",
    "from pylab import rcParams\n",
    "rcParams['figure.dpi'] = 350\n",
    "rcParams['lines.linewidth'] = 2\n",
    "rcParams['figure.figsize'] = 20, 15\n",
    "rcParams['font.size'] = 24\n",
    "rcParams['axes.facecolor'] = 'white'\n",
    "rcParams['patch.edgecolor'] = 'k'\n",
    "\n",
    "%matplotlib inline\n",
    "\n",
    "pd.set_option('html', True)"
   ]
  },
  {
   "cell_type": "markdown",
   "metadata": {},
   "source": [
    "<b>Some utility functions are defined first.</b>"
   ]
  },
  {
   "cell_type": "code",
   "execution_count": 2,
   "metadata": {
    "collapsed": false
   },
   "outputs": [],
   "source": [
    "# load train data and check the missing value\n",
    "def hh_load_data(file_name):\n",
    "    household = pd.read_csv(file_name, na_values=[''])\n",
    "    # map 'yes' and 'no' to 1 and 0 respectively for edjefa\n",
    "    def yes_no_mapper(v):\n",
    "        if v == 'yes':\n",
    "            return 1\n",
    "        elif v == 'no':\n",
    "            return 0\n",
    "        else:\n",
    "            return v\n",
    "    household[\"edjefa\"] = household[[\"edjefa\"]].applymap(yes_no_mapper)\n",
    "    \n",
    "    na_checker = household.isnull().any()\n",
    "    print \"There are NA in variables: \"\n",
    "    print na_checker[na_checker == True].index\n",
    "    return household\n",
    "\n",
    "# by looking at the data dictionary, adopt different strategies to fill missin values\n",
    "# use mean to fill NA of v2a1\n",
    "def hh_fill_na(raw_df):\n",
    "    raw_df['v2a1'].fillna(value=np.mean(raw_df.v2a1), inplace=True)\n",
    "    # tipovivi1=1 own and fully paid house, set NA to zero for such cases\n",
    "    raw_df.loc[(raw_df['tipovivi1'] == 1), 'v2a1'] = 0\n",
    "    \n",
    "    if any(np.equal(raw_df.columns.values, \"Target\")):\n",
    "        for i in range(4):\n",
    "            pay = raw_df[raw_df.Target == 1+i].v2a1.mean()\n",
    "            raw_df.loc[(raw_df.tipovivi1 == 0) & (raw_df.v2a1 == 0) & (raw_df.Target == i+1) , 'v2a1'] = pay\n",
    "    else:\n",
    "        raw_df.loc[(raw_df.tipovivi1 == 0) & (raw_df.v2a1 == 0), 'v2a1'] = raw_df.v2a1.mean()\n",
    "        \n",
    "    # v18q1 is # tablets, set 0 for missing values\n",
    "    raw_df['v18q1'].fillna(value=0, inplace=True)\n",
    "    # rez_esc is years behind in school, set 0\n",
    "    raw_df['rez_esc'].fillna(value=0, inplace=True)\n",
    "    # meaneduc is average years of education for adults (18+), use mean to fill NA\n",
    "    raw_df['meaneduc'].fillna(value=raw_df['meaneduc'].mean(), inplace=True)\n",
    "    # SQBmeaned is the square of the mean years of education of adults (>=18) in the household, \n",
    "    # use square of meaneduc to fill NA\n",
    "    raw_df['SQBmeaned'].fillna(value=pow(raw_df['meaneduc'], 2), inplace=True)\n",
    "    \n",
    "# individual level variables, others are household level variables\n",
    "agg_vars = pd.Series(['dis','male','female','estadocivil1','estadocivil2','estadocivil3','estadocivil4','estadocivil5',\n",
    "                      'estadocivil6','estadocivil7','parentesco1','parentesco2','parentesco3','parentesco4','parentesco5',\n",
    "                      'parentesco6','parentesco7','parentesco8','parentesco9','parentesco10','parentesco11','parentesco12'])\n",
    "\n",
    "# normalize all variables except binary variables (0 or 1) and target\n",
    "from sklearn import preprocessing\n",
    "min_max_scaler = preprocessing.MinMaxScaler()\n",
    "def hh_normalize(raw_df):\n",
    "    for col in raw_df.columns:\n",
    "        if (col != 'Target' and col != 'idhogar' and len(raw_df[col].unique()) > 2):\n",
    "            raw_df[col] = min_max_scaler.fit_transform(raw_df[col].reshape(-1, 1))\n"
   ]
  },
  {
   "cell_type": "markdown",
   "metadata": {},
   "source": [
    "### Load data and data wrangling\n",
    "#### Download data from https://www.kaggle.com/c/costa-rican-household-poverty-prediction/data and load <br>"
   ]
  },
  {
   "cell_type": "code",
   "execution_count": 3,
   "metadata": {
    "collapsed": false,
    "scrolled": true
   },
   "outputs": [
    {
     "name": "stdout",
     "output_type": "stream",
     "text": [
      "There are NA in variables: \n",
      "Index([u'v2a1', u'v18q1', u'rez_esc', u'meaneduc', u'SQBmeaned'], dtype='object')\n"
     ]
    },
    {
     "data": {
      "text/html": [
       "<div>\n",
       "<table border=\"1\" class=\"dataframe\">\n",
       "  <thead>\n",
       "    <tr style=\"text-align: right;\">\n",
       "      <th></th>\n",
       "      <th>v2a1</th>\n",
       "      <th>hacdor</th>\n",
       "      <th>rooms</th>\n",
       "      <th>hacapo</th>\n",
       "      <th>v14a</th>\n",
       "      <th>refrig</th>\n",
       "      <th>v18q</th>\n",
       "      <th>v18q1</th>\n",
       "      <th>r4h1</th>\n",
       "      <th>r4h2</th>\n",
       "      <th>...</th>\n",
       "      <th>SQBescolari</th>\n",
       "      <th>SQBage</th>\n",
       "      <th>SQBhogar_total</th>\n",
       "      <th>SQBedjefe</th>\n",
       "      <th>SQBhogar_nin</th>\n",
       "      <th>SQBovercrowding</th>\n",
       "      <th>SQBdependency</th>\n",
       "      <th>SQBmeaned</th>\n",
       "      <th>agesq</th>\n",
       "      <th>Target</th>\n",
       "    </tr>\n",
       "  </thead>\n",
       "  <tbody>\n",
       "    <tr>\n",
       "      <th>ID_279628684</th>\n",
       "      <td>190000</td>\n",
       "      <td>0</td>\n",
       "      <td>3</td>\n",
       "      <td>0</td>\n",
       "      <td>1</td>\n",
       "      <td>1</td>\n",
       "      <td>0</td>\n",
       "      <td>0</td>\n",
       "      <td>0</td>\n",
       "      <td>1</td>\n",
       "      <td>...</td>\n",
       "      <td>100</td>\n",
       "      <td>1849</td>\n",
       "      <td>1</td>\n",
       "      <td>100</td>\n",
       "      <td>0</td>\n",
       "      <td>1.000000</td>\n",
       "      <td>0</td>\n",
       "      <td>100</td>\n",
       "      <td>1849</td>\n",
       "      <td>4</td>\n",
       "    </tr>\n",
       "    <tr>\n",
       "      <th>ID_f29eb3ddd</th>\n",
       "      <td>135000</td>\n",
       "      <td>0</td>\n",
       "      <td>4</td>\n",
       "      <td>0</td>\n",
       "      <td>1</td>\n",
       "      <td>1</td>\n",
       "      <td>1</td>\n",
       "      <td>1</td>\n",
       "      <td>0</td>\n",
       "      <td>1</td>\n",
       "      <td>...</td>\n",
       "      <td>144</td>\n",
       "      <td>4489</td>\n",
       "      <td>1</td>\n",
       "      <td>144</td>\n",
       "      <td>0</td>\n",
       "      <td>1.000000</td>\n",
       "      <td>64</td>\n",
       "      <td>144</td>\n",
       "      <td>4489</td>\n",
       "      <td>4</td>\n",
       "    </tr>\n",
       "    <tr>\n",
       "      <th>ID_68de51c94</th>\n",
       "      <td>0</td>\n",
       "      <td>0</td>\n",
       "      <td>8</td>\n",
       "      <td>0</td>\n",
       "      <td>1</td>\n",
       "      <td>1</td>\n",
       "      <td>0</td>\n",
       "      <td>0</td>\n",
       "      <td>0</td>\n",
       "      <td>0</td>\n",
       "      <td>...</td>\n",
       "      <td>121</td>\n",
       "      <td>8464</td>\n",
       "      <td>1</td>\n",
       "      <td>0</td>\n",
       "      <td>0</td>\n",
       "      <td>0.250000</td>\n",
       "      <td>64</td>\n",
       "      <td>121</td>\n",
       "      <td>8464</td>\n",
       "      <td>4</td>\n",
       "    </tr>\n",
       "    <tr>\n",
       "      <th>ID_d671db89c</th>\n",
       "      <td>180000</td>\n",
       "      <td>0</td>\n",
       "      <td>5</td>\n",
       "      <td>0</td>\n",
       "      <td>1</td>\n",
       "      <td>1</td>\n",
       "      <td>1</td>\n",
       "      <td>1</td>\n",
       "      <td>0</td>\n",
       "      <td>2</td>\n",
       "      <td>...</td>\n",
       "      <td>81</td>\n",
       "      <td>289</td>\n",
       "      <td>16</td>\n",
       "      <td>121</td>\n",
       "      <td>4</td>\n",
       "      <td>1.777778</td>\n",
       "      <td>1</td>\n",
       "      <td>121</td>\n",
       "      <td>289</td>\n",
       "      <td>4</td>\n",
       "    </tr>\n",
       "    <tr>\n",
       "      <th>ID_d56d6f5f5</th>\n",
       "      <td>180000</td>\n",
       "      <td>0</td>\n",
       "      <td>5</td>\n",
       "      <td>0</td>\n",
       "      <td>1</td>\n",
       "      <td>1</td>\n",
       "      <td>1</td>\n",
       "      <td>1</td>\n",
       "      <td>0</td>\n",
       "      <td>2</td>\n",
       "      <td>...</td>\n",
       "      <td>121</td>\n",
       "      <td>1369</td>\n",
       "      <td>16</td>\n",
       "      <td>121</td>\n",
       "      <td>4</td>\n",
       "      <td>1.777778</td>\n",
       "      <td>1</td>\n",
       "      <td>121</td>\n",
       "      <td>1369</td>\n",
       "      <td>4</td>\n",
       "    </tr>\n",
       "  </tbody>\n",
       "</table>\n",
       "<p>5 rows × 142 columns</p>\n",
       "</div>"
      ],
      "text/plain": [
       "                v2a1  hacdor  rooms  hacapo  v14a  refrig  v18q  v18q1  r4h1  \\\n",
       "ID_279628684  190000       0      3       0     1       1     0      0     0   \n",
       "ID_f29eb3ddd  135000       0      4       0     1       1     1      1     0   \n",
       "ID_68de51c94       0       0      8       0     1       1     0      0     0   \n",
       "ID_d671db89c  180000       0      5       0     1       1     1      1     0   \n",
       "ID_d56d6f5f5  180000       0      5       0     1       1     1      1     0   \n",
       "\n",
       "              r4h2   ...    SQBescolari  SQBage  SQBhogar_total  SQBedjefe  \\\n",
       "ID_279628684     1   ...            100    1849               1        100   \n",
       "ID_f29eb3ddd     1   ...            144    4489               1        144   \n",
       "ID_68de51c94     0   ...            121    8464               1          0   \n",
       "ID_d671db89c     2   ...             81     289              16        121   \n",
       "ID_d56d6f5f5     2   ...            121    1369              16        121   \n",
       "\n",
       "              SQBhogar_nin  SQBovercrowding  SQBdependency  SQBmeaned  agesq  \\\n",
       "ID_279628684             0         1.000000              0        100   1849   \n",
       "ID_f29eb3ddd             0         1.000000             64        144   4489   \n",
       "ID_68de51c94             0         0.250000             64        121   8464   \n",
       "ID_d671db89c             4         1.777778              1        121    289   \n",
       "ID_d56d6f5f5             4         1.777778              1        121   1369   \n",
       "\n",
       "              Target  \n",
       "ID_279628684       4  \n",
       "ID_f29eb3ddd       4  \n",
       "ID_68de51c94       4  \n",
       "ID_d671db89c       4  \n",
       "ID_d56d6f5f5       4  \n",
       "\n",
       "[5 rows x 142 columns]"
      ]
     },
     "execution_count": 3,
     "metadata": {},
     "output_type": "execute_result"
    }
   ],
   "source": [
    "household = hh_load_data('train.csv')\n",
    "# set index to Id\n",
    "household.set_index('Id', inplace=True)\n",
    "household.index.name = None\n",
    "hh_fill_na(household)\n",
    "household.head()"
   ]
  },
  {
   "cell_type": "markdown",
   "metadata": {},
   "source": [
    "#### Check the records and how the poverty of the households distributed "
   ]
  },
  {
   "cell_type": "code",
   "execution_count": 4,
   "metadata": {
    "collapsed": false,
    "scrolled": true
   },
   "outputs": [
    {
     "name": "stdout",
     "output_type": "stream",
     "text": [
      "There are 2988 household, 2973 records with household head.\n",
      "<class 'pandas.core.frame.DataFrame'>\n",
      "Index: 9557 entries, ID_279628684 to ID_a38c64491\n",
      "Columns: 142 entries, v2a1 to Target\n",
      "dtypes: float64(8), int64(130), object(4)\n",
      "memory usage: 10.4+ MB\n"
     ]
    }
   ],
   "source": [
    "hh_grp = household.idhogar.value_counts()\n",
    "print 'There are %d household, %d records with household head.'%(len(hh_grp), len(household[household.parentesco1==1]))\n",
    "household.info()"
   ]
  },
  {
   "cell_type": "markdown",
   "metadata": {},
   "source": [
    "We can see that there are 9556 records from 2988 households and most records (2973) with household head presents."
   ]
  },
  {
   "cell_type": "markdown",
   "metadata": {},
   "source": [
    "#### Fix errors that households have different Target from family members"
   ]
  },
  {
   "cell_type": "code",
   "execution_count": 5,
   "metadata": {
    "collapsed": false
   },
   "outputs": [
    {
     "name": "stdout",
     "output_type": "stream",
     "text": [
      "                idhogar  parentesco1  Target\n",
      "ID_a5e2b0639  0172ab1d9            0       3\n",
      "ID_5dfdf4ebe  0172ab1d9            0       2\n",
      "ID_762e1fd96  0172ab1d9            0       3\n",
      "ID_c76b87004  0172ab1d9            1       3\n",
      "ID_1dffe3dcf  0172ab1d9            0       2\n"
     ]
    }
   ],
   "source": [
    "def fix_target_level(raw_df):\n",
    "    all_equal = raw_df.groupby('idhogar')['Target'].apply(lambda x: x.nunique() == 1)\n",
    "    not_equal = all_equal[all_equal == False]\n",
    "    print raw_df[raw_df['idhogar'] == not_equal.index[0]][['idhogar', 'parentesco1', 'Target']]\n",
    "    for hhid in not_equal.index:\n",
    "        correct_level = int(raw_df[(raw_df['idhogar'] == hhid) & (raw_df['parentesco1'] == 1.0)]['Target'])\n",
    "        raw_df.loc[raw_df['idhogar'] == hhid, 'Target'] = correct_level\n",
    "        \n",
    "fix_target_level(household)"
   ]
  },
  {
   "cell_type": "code",
   "execution_count": 6,
   "metadata": {
    "collapsed": false
   },
   "outputs": [
    {
     "data": {
      "image/png": "[encoded data removed]",
      "text/plain": [
       "<matplotlib.figure.Figure at 0x6270320>"
      ]
     },
     "metadata": {},
     "output_type": "display_data"
    }
   ],
   "source": [
    "poverty_colors = ['red', 'orange', 'blue', 'green']\n",
    "poverty_levels = ['extreme', 'moderate', 'vulnerable', 'non vulnerable']\n",
    "\n",
    "def hh_proverty_breakdown(hh_df):\n",
    "    levels = ['Extreme', 'Moderate', 'Vulnerable', 'Non vulnerable']\n",
    "    # head presenting household poverty levels\n",
    "    poverty_levels = [0, 0, 0, 0]\n",
    "    t = household[household.parentesco1==1]\n",
    "    for v in t['Target'].values:\n",
    "        poverty_levels[v-1] += 1\n",
    "    \n",
    "    poverty1 = pd.DataFrame({'level': levels, 'count':poverty_levels})\n",
    "    \n",
    "    plt1 = plt.subplot(1, 2, 1)\n",
    "    ax = poverty1.plot(ax=plt1, kind='bar', x='level', y='count', color=poverty_colors, rot=0, edgecolor='k', legend=False, figsize=(10,4))\n",
    "    plt.xlabel('Poverty Level'); \n",
    "    plt.ylabel('Count of Households');\n",
    "    plt.title('Distribution of Poverty Levels with Head') \n",
    "    for p in ax.patches:\n",
    "        b = p.get_bbox()\n",
    "        val = \"{:.2f}\".format(b.y1 + b.y0)        \n",
    "        ax.annotate(val, ((b.x0 + b.x1)/2-0.2, b.y1))\n",
    "\n",
    "    # no-head household poverty levels\n",
    "    poverty_levels = [0, 0, 0, 0]\n",
    "    no_head = set(hh_df.idhogar.unique()) - set(hh_df[hh_df.parentesco1 == 1 ].idhogar.unique())\n",
    "    targets = []\n",
    "    for v in no_head:\n",
    "        targets.append(hh_df[hh_df.idhogar == v].Target[0])\n",
    "    for v in targets:\n",
    "        poverty_levels[v-1] += 1\n",
    "\n",
    "    poverty2 = pd.DataFrame({'level': levels, 'count':poverty_levels})\n",
    "    plt2 = plt.subplot(1, 2, 2)\n",
    "    ax = poverty2.plot(ax=plt2, kind='bar', x='level', y='count', color=['r','y','b','g'], rot=0, edgecolor='k', legend=False, figsize=(12,4))\n",
    "    plt.xlabel('Poverty Level'); \n",
    "    plt.ylabel('Count of Households');\n",
    "    plt.title('Distribution of Poverty Levels without Head') \n",
    "    for p in ax.patches:\n",
    "        b = p.get_bbox()\n",
    "        val = \"{:.2f}\".format(b.y1 + b.y0)        \n",
    "        ax.annotate(val, ((b.x0 + b.x1)/2-0.2, b.y1))\n",
    "hh_proverty_breakdown(household)"
   ]
  },
  {
   "cell_type": "markdown",
   "metadata": {},
   "source": [
    "The chart shows there are 66% households that classify as non vulnerable and only 7.5% are extremly poor. This imbalanced distribution brings difficulty for predicting the minority classes because the model far less examples. For no head households, almost all are vulnerable and only one case is non-vulnerable. Let's assume the test data should also conform to these patterns."
   ]
  },
  {
   "cell_type": "markdown",
   "metadata": {},
   "source": [
    "### Feature Analysis\n",
    "First, let's keep squared varaibles (SQB*) but opt out the original variables"
   ]
  },
  {
   "cell_type": "code",
   "execution_count": 7,
   "metadata": {
    "collapsed": true
   },
   "outputs": [],
   "source": [
    "optout_vars = [u'hogar_total', u'edjefe', u'hogar_nin', u'overcrowding', u'dependency', u'meaneduc', u'agesq']\n",
    "household.drop(optout_vars, axis=1, inplace=True)"
   ]
  },
  {
   "cell_type": "markdown",
   "metadata": {},
   "source": [
    "v18q, r4h3, r4m3, r4t3, mobilephone(qmobilephone) are derived variables, hhsize is duplicate with tamhog, tamviv duplicate with r4t3, drop them too"
   ]
  },
  {
   "cell_type": "code",
   "execution_count": 8,
   "metadata": {
    "collapsed": false
   },
   "outputs": [],
   "source": [
    "#area2 and area1, female and male, are all dup, keep one\n",
    "household.drop([u'v18q', u'tamhog', u'area2', 'female'], axis=1, inplace=True)"
   ]
  },
  {
   "cell_type": "code",
   "execution_count": 9,
   "metadata": {
    "collapsed": false
   },
   "outputs": [],
   "source": [
    "#make a new variable house size per person and then remove hhsize and tamviv\n",
    "def create_per_person_vars(raw_df):\n",
    "    raw_df['size_per_person'] = raw_df['hhsize']*1.0/raw_df['tamviv']\n",
    "    raw_df['rent_per_person'] = raw_df['v2a1'] / raw_df['tamviv']\n",
    "    raw_df['phones_per_person'] = raw_df['qmobilephone'] / raw_df['tamviv']\n",
    "    raw_df['tablets_per_person'] = raw_df['v18q1'] / raw_df['tamviv']\n",
    "    raw_df['rooms_per_person'] = raw_df['rooms'] / raw_df['tamviv']\n",
    "    raw_df.drop([u'hhsize', u'rooms', u'v18q1', u'v2a1' , u'qmobilephone', u'tamviv'], axis=1, inplace=True)\n",
    "\n",
    "create_per_person_vars(household)"
   ]
  },
  {
   "cell_type": "code",
   "execution_count": 10,
   "metadata": {
    "collapsed": false
   },
   "outputs": [
    {
     "data": {
      "text/plain": [
       "<matplotlib.collections.PathCollection at 0x21dc4828>"
      ]
     },
     "execution_count": 10,
     "metadata": {},
     "output_type": "execute_result"
    },
    {
     "data": {
      "image/png": "[encoded data removed]",
      "text/plain": [
       "<matplotlib.figure.Figure at 0x217dd828>"
      ]
     },
     "metadata": {},
     "output_type": "display_data"
    }
   ],
   "source": [
    "plt.scatter(household['size_per_person'], household['Target'], color='green', alpha=0.6, linewidth=1)"
   ]
  },
  {
   "cell_type": "code",
   "execution_count": 11,
   "metadata": {
    "collapsed": false
   },
   "outputs": [
    {
     "data": {
      "text/plain": [
       "<matplotlib.collections.PathCollection at 0x2210e748>"
      ]
     },
     "execution_count": 11,
     "metadata": {},
     "output_type": "execute_result"
    },
    {
     "data": {
      "image/png": "[encoded data removed]",
      "text/plain": [
       "<matplotlib.figure.Figure at 0x21dfd550>"
      ]
     },
     "metadata": {},
     "output_type": "display_data"
    }
   ],
   "source": [
    "plt.scatter(household['SQBovercrowding'], household['Target'], color='orange', alpha=0.6, linewidth=1)"
   ]
  },
  {
   "cell_type": "markdown",
   "metadata": {},
   "source": [
    "As we can see fromt the above plots, there is no clear boundary among these data points. We can check other variables, it's similar. Clustering might not be a good candidate classifier. "
   ]
  },
  {
   "cell_type": "markdown",
   "metadata": {},
   "source": [
    "check family members educational level and make a new varaible \"edu_level\" for instlevel1(no level of education) to instlevel9 ( postgraduate education), the higher the better"
   ]
  },
  {
   "cell_type": "code",
   "execution_count": 12,
   "metadata": {
    "collapsed": false
   },
   "outputs": [
    {
     "data": {
      "text/html": [
       "<div>\n",
       "<table border=\"1\" class=\"dataframe\">\n",
       "  <thead>\n",
       "    <tr style=\"text-align: right;\">\n",
       "      <th></th>\n",
       "      <th>instlevel1</th>\n",
       "      <th>instlevel2</th>\n",
       "      <th>instlevel3</th>\n",
       "      <th>instlevel4</th>\n",
       "      <th>instlevel5</th>\n",
       "      <th>instlevel6</th>\n",
       "      <th>instlevel7</th>\n",
       "      <th>instlevel8</th>\n",
       "      <th>instlevel9</th>\n",
       "    </tr>\n",
       "  </thead>\n",
       "  <tbody>\n",
       "    <tr>\n",
       "      <th>ID_279628684</th>\n",
       "      <td>0</td>\n",
       "      <td>0</td>\n",
       "      <td>0</td>\n",
       "      <td>1</td>\n",
       "      <td>0</td>\n",
       "      <td>0</td>\n",
       "      <td>0</td>\n",
       "      <td>0</td>\n",
       "      <td>0</td>\n",
       "    </tr>\n",
       "    <tr>\n",
       "      <th>ID_f29eb3ddd</th>\n",
       "      <td>0</td>\n",
       "      <td>0</td>\n",
       "      <td>0</td>\n",
       "      <td>0</td>\n",
       "      <td>0</td>\n",
       "      <td>0</td>\n",
       "      <td>0</td>\n",
       "      <td>1</td>\n",
       "      <td>0</td>\n",
       "    </tr>\n",
       "    <tr>\n",
       "      <th>ID_68de51c94</th>\n",
       "      <td>0</td>\n",
       "      <td>0</td>\n",
       "      <td>0</td>\n",
       "      <td>0</td>\n",
       "      <td>1</td>\n",
       "      <td>0</td>\n",
       "      <td>0</td>\n",
       "      <td>0</td>\n",
       "      <td>0</td>\n",
       "    </tr>\n",
       "    <tr>\n",
       "      <th>ID_d671db89c</th>\n",
       "      <td>0</td>\n",
       "      <td>0</td>\n",
       "      <td>0</td>\n",
       "      <td>1</td>\n",
       "      <td>0</td>\n",
       "      <td>0</td>\n",
       "      <td>0</td>\n",
       "      <td>0</td>\n",
       "      <td>0</td>\n",
       "    </tr>\n",
       "    <tr>\n",
       "      <th>ID_d56d6f5f5</th>\n",
       "      <td>0</td>\n",
       "      <td>0</td>\n",
       "      <td>0</td>\n",
       "      <td>0</td>\n",
       "      <td>1</td>\n",
       "      <td>0</td>\n",
       "      <td>0</td>\n",
       "      <td>0</td>\n",
       "      <td>0</td>\n",
       "    </tr>\n",
       "  </tbody>\n",
       "</table>\n",
       "</div>"
      ],
      "text/plain": [
       "              instlevel1  instlevel2  instlevel3  instlevel4  instlevel5  \\\n",
       "ID_279628684           0           0           0           1           0   \n",
       "ID_f29eb3ddd           0           0           0           0           0   \n",
       "ID_68de51c94           0           0           0           0           1   \n",
       "ID_d671db89c           0           0           0           1           0   \n",
       "ID_d56d6f5f5           0           0           0           0           1   \n",
       "\n",
       "              instlevel6  instlevel7  instlevel8  instlevel9  \n",
       "ID_279628684           0           0           0           0  \n",
       "ID_f29eb3ddd           0           0           1           0  \n",
       "ID_68de51c94           0           0           0           0  \n",
       "ID_d671db89c           0           0           0           0  \n",
       "ID_d56d6f5f5           0           0           0           0  "
      ]
     },
     "execution_count": 12,
     "metadata": {},
     "output_type": "execute_result"
    }
   ],
   "source": [
    "inst_levels = []\n",
    "for c in household.columns:\n",
    "    if c.startswith('instl'):\n",
    "        inst_levels.append(c)\n",
    "household[inst_levels].head()        "
   ]
  },
  {
   "cell_type": "code",
   "execution_count": 13,
   "metadata": {
    "collapsed": false
   },
   "outputs": [
    {
     "data": {
      "image/png": "[encoded data removed]",
      "text/plain": [
       "<matplotlib.figure.Figure at 0x2210ee80>"
      ]
     },
     "metadata": {},
     "output_type": "display_data"
    }
   ],
   "source": [
    "household['edu_level'] = np.argmax(np.array(household[inst_levels]), axis = 1)\n",
    "household.drop(inst_levels, axis=1, inplace=True)\n",
    "\n",
    "plt.figure(figsize = (12, 6))\n",
    "sns.violinplot(x = 'Target', y = 'edu_level', data = household);\n",
    "plt.title('Education Distribution by Target');"
   ]
  },
  {
   "cell_type": "markdown",
   "metadata": {},
   "source": [
    "Remove highly correlated variables. The implementation refers to <b>Feature Selection</b> in https://www.kaggle.com/willkoehrsen/a-complete-introduction-and-walkthrough"
   ]
  },
  {
   "cell_type": "code",
   "execution_count": 14,
   "metadata": {
    "collapsed": false
   },
   "outputs": [
    {
     "name": "stdout",
     "output_type": "stream",
     "text": [
      "['coopele', 'SQBage', 'edu_level']\n"
     ]
    }
   ],
   "source": [
    "def drop_highly_corr(raw_df):\n",
    "    corr_matrix = raw_df.corr()\n",
    "    # Select upper triangle of correlation matrix\n",
    "    upper = corr_matrix.where(np.triu(np.ones(corr_matrix.shape), k=1).astype(np.bool))\n",
    "    # Find index of feature columns with correlation greater than 0.95\n",
    "    to_drop = [column for column in upper.columns if any(abs(upper[column]) > 0.95)]\n",
    "    raw_df.drop(to_drop, axis=1, inplace=True)\n",
    "    print to_drop\n",
    "\n",
    "drop_highly_corr(household) "
   ]
  },
  {
   "cell_type": "code",
   "execution_count": 15,
   "metadata": {
    "collapsed": false
   },
   "outputs": [
    {
     "data": {
      "image/png": "[encoded data removed]",
      "text/plain": [
       "<matplotlib.figure.Figure at 0x221aa588>"
      ]
     },
     "metadata": {},
     "output_type": "display_data"
    }
   ],
   "source": [
    "plt.figure(figsize = (10, 6))\n",
    "sns.boxplot(x = 'Target', y = 'SQBovercrowding', data = household);\n",
    "plt.xticks([0, 1, 2, 3], poverty_levels)\n",
    "plt.title('Overcrowding by Target');"
   ]
  },
  {
   "cell_type": "markdown",
   "metadata": {},
   "source": [
    "#### Normalize all non-binary variables\n",
    "We know kNN model depends on a distance metric, feature scaling (limit the range of each column to between 0 and 1) is an absolute necessity. When comparing different models, it's always safest to scale the features. "
   ]
  },
  {
   "cell_type": "code",
   "execution_count": 17,
   "metadata": {
    "collapsed": false
   },
   "outputs": [
    {
     "data": {
      "text/html": [
       "<div>\n",
       "<table border=\"1\" class=\"dataframe\">\n",
       "  <thead>\n",
       "    <tr style=\"text-align: right;\">\n",
       "      <th></th>\n",
       "      <th>hacdor</th>\n",
       "      <th>hacapo</th>\n",
       "      <th>v14a</th>\n",
       "      <th>refrig</th>\n",
       "      <th>r4h1</th>\n",
       "      <th>r4h2</th>\n",
       "      <th>r4h3</th>\n",
       "      <th>r4m1</th>\n",
       "      <th>r4m2</th>\n",
       "      <th>r4m3</th>\n",
       "      <th>...</th>\n",
       "      <th>SQBhogar_nin</th>\n",
       "      <th>SQBovercrowding</th>\n",
       "      <th>SQBdependency</th>\n",
       "      <th>SQBmeaned</th>\n",
       "      <th>Target</th>\n",
       "      <th>size_per_person</th>\n",
       "      <th>rent_per_person</th>\n",
       "      <th>phones_per_person</th>\n",
       "      <th>tablets_per_person</th>\n",
       "      <th>rooms_per_person</th>\n",
       "    </tr>\n",
       "  </thead>\n",
       "  <tbody>\n",
       "    <tr>\n",
       "      <th>ID_279628684</th>\n",
       "      <td>0</td>\n",
       "      <td>0</td>\n",
       "      <td>1</td>\n",
       "      <td>1</td>\n",
       "      <td>0</td>\n",
       "      <td>0.125</td>\n",
       "      <td>0.125</td>\n",
       "      <td>0.000000</td>\n",
       "      <td>0.000000</td>\n",
       "      <td>0.000</td>\n",
       "      <td>...</td>\n",
       "      <td>0.000000</td>\n",
       "      <td>0.026696</td>\n",
       "      <td>0.000000</td>\n",
       "      <td>0.073046</td>\n",
       "      <td>4</td>\n",
       "      <td>1</td>\n",
       "      <td>0.190</td>\n",
       "      <td>0.333333</td>\n",
       "      <td>0.000000</td>\n",
       "      <td>0.320755</td>\n",
       "    </tr>\n",
       "    <tr>\n",
       "      <th>ID_f29eb3ddd</th>\n",
       "      <td>0</td>\n",
       "      <td>0</td>\n",
       "      <td>1</td>\n",
       "      <td>1</td>\n",
       "      <td>0</td>\n",
       "      <td>0.125</td>\n",
       "      <td>0.125</td>\n",
       "      <td>0.000000</td>\n",
       "      <td>0.000000</td>\n",
       "      <td>0.000</td>\n",
       "      <td>...</td>\n",
       "      <td>0.000000</td>\n",
       "      <td>0.026696</td>\n",
       "      <td>1.000000</td>\n",
       "      <td>0.105186</td>\n",
       "      <td>4</td>\n",
       "      <td>1</td>\n",
       "      <td>0.135</td>\n",
       "      <td>0.333333</td>\n",
       "      <td>0.333333</td>\n",
       "      <td>0.433962</td>\n",
       "    </tr>\n",
       "    <tr>\n",
       "      <th>ID_68de51c94</th>\n",
       "      <td>0</td>\n",
       "      <td>0</td>\n",
       "      <td>1</td>\n",
       "      <td>1</td>\n",
       "      <td>0</td>\n",
       "      <td>0.000</td>\n",
       "      <td>0.000</td>\n",
       "      <td>0.000000</td>\n",
       "      <td>0.166667</td>\n",
       "      <td>0.125</td>\n",
       "      <td>...</td>\n",
       "      <td>0.000000</td>\n",
       "      <td>0.005840</td>\n",
       "      <td>1.000000</td>\n",
       "      <td>0.088386</td>\n",
       "      <td>4</td>\n",
       "      <td>1</td>\n",
       "      <td>0.000</td>\n",
       "      <td>0.000000</td>\n",
       "      <td>0.000000</td>\n",
       "      <td>0.886792</td>\n",
       "    </tr>\n",
       "    <tr>\n",
       "      <th>ID_d671db89c</th>\n",
       "      <td>0</td>\n",
       "      <td>0</td>\n",
       "      <td>1</td>\n",
       "      <td>1</td>\n",
       "      <td>0</td>\n",
       "      <td>0.250</td>\n",
       "      <td>0.250</td>\n",
       "      <td>0.166667</td>\n",
       "      <td>0.166667</td>\n",
       "      <td>0.250</td>\n",
       "      <td>...</td>\n",
       "      <td>0.049383</td>\n",
       "      <td>0.048325</td>\n",
       "      <td>0.015625</td>\n",
       "      <td>0.088386</td>\n",
       "      <td>4</td>\n",
       "      <td>1</td>\n",
       "      <td>0.045</td>\n",
       "      <td>0.250000</td>\n",
       "      <td>0.083333</td>\n",
       "      <td>0.122642</td>\n",
       "    </tr>\n",
       "    <tr>\n",
       "      <th>ID_d56d6f5f5</th>\n",
       "      <td>0</td>\n",
       "      <td>0</td>\n",
       "      <td>1</td>\n",
       "      <td>1</td>\n",
       "      <td>0</td>\n",
       "      <td>0.250</td>\n",
       "      <td>0.250</td>\n",
       "      <td>0.166667</td>\n",
       "      <td>0.166667</td>\n",
       "      <td>0.250</td>\n",
       "      <td>...</td>\n",
       "      <td>0.049383</td>\n",
       "      <td>0.048325</td>\n",
       "      <td>0.015625</td>\n",
       "      <td>0.088386</td>\n",
       "      <td>4</td>\n",
       "      <td>1</td>\n",
       "      <td>0.045</td>\n",
       "      <td>0.250000</td>\n",
       "      <td>0.083333</td>\n",
       "      <td>0.122642</td>\n",
       "    </tr>\n",
       "  </tbody>\n",
       "</table>\n",
       "<p>5 rows × 119 columns</p>\n",
       "</div>"
      ],
      "text/plain": [
       "              hacdor  hacapo  v14a  refrig  r4h1   r4h2   r4h3      r4m1  \\\n",
       "ID_279628684       0       0     1       1     0  0.125  0.125  0.000000   \n",
       "ID_f29eb3ddd       0       0     1       1     0  0.125  0.125  0.000000   \n",
       "ID_68de51c94       0       0     1       1     0  0.000  0.000  0.000000   \n",
       "ID_d671db89c       0       0     1       1     0  0.250  0.250  0.166667   \n",
       "ID_d56d6f5f5       0       0     1       1     0  0.250  0.250  0.166667   \n",
       "\n",
       "                  r4m2   r4m3        ...         SQBhogar_nin  \\\n",
       "ID_279628684  0.000000  0.000        ...             0.000000   \n",
       "ID_f29eb3ddd  0.000000  0.000        ...             0.000000   \n",
       "ID_68de51c94  0.166667  0.125        ...             0.000000   \n",
       "ID_d671db89c  0.166667  0.250        ...             0.049383   \n",
       "ID_d56d6f5f5  0.166667  0.250        ...             0.049383   \n",
       "\n",
       "              SQBovercrowding  SQBdependency  SQBmeaned  Target  \\\n",
       "ID_279628684         0.026696       0.000000   0.073046       4   \n",
       "ID_f29eb3ddd         0.026696       1.000000   0.105186       4   \n",
       "ID_68de51c94         0.005840       1.000000   0.088386       4   \n",
       "ID_d671db89c         0.048325       0.015625   0.088386       4   \n",
       "ID_d56d6f5f5         0.048325       0.015625   0.088386       4   \n",
       "\n",
       "              size_per_person  rent_per_person  phones_per_person  \\\n",
       "ID_279628684                1            0.190           0.333333   \n",
       "ID_f29eb3ddd                1            0.135           0.333333   \n",
       "ID_68de51c94                1            0.000           0.000000   \n",
       "ID_d671db89c                1            0.045           0.250000   \n",
       "ID_d56d6f5f5                1            0.045           0.250000   \n",
       "\n",
       "              tablets_per_person  rooms_per_person  \n",
       "ID_279628684            0.000000          0.320755  \n",
       "ID_f29eb3ddd            0.333333          0.433962  \n",
       "ID_68de51c94            0.000000          0.886792  \n",
       "ID_d671db89c            0.083333          0.122642  \n",
       "ID_d56d6f5f5            0.083333          0.122642  \n",
       "\n",
       "[5 rows x 119 columns]"
      ]
     },
     "execution_count": 17,
     "metadata": {},
     "output_type": "execute_result"
    }
   ],
   "source": [
    "# Normalize all non-binary variables\n",
    "hh_normalize(household)\n",
    "household.head()"
   ]
  },
  {
   "cell_type": "markdown",
   "metadata": {},
   "source": [
    "### Build and Compare models\n",
    "cluster, kNN, Decision tree, Neural, Naive Bayes, and Gradient Boosting models will be explored first on all featured, then build models on features selected by PCA."
   ]
  },
  {
   "cell_type": "code",
   "execution_count": 18,
   "metadata": {
    "collapsed": true
   },
   "outputs": [],
   "source": [
    "y = household['Target']\n",
    "X = household.drop(['Target', 'idhogar'], axis=1, inplace=False)"
   ]
  },
  {
   "cell_type": "markdown",
   "metadata": {},
   "source": [
    "#### Build models on all features"
   ]
  },
  {
   "cell_type": "code",
   "execution_count": 21,
   "metadata": {
    "collapsed": false
   },
   "outputs": [],
   "source": [
    "from sklearn.neighbors import KNeighborsClassifier\n",
    "from sklearn.cluster import KMeans\n",
    "from sklearn.tree import DecisionTreeClassifier\n",
    "from sklearn.feature_selection import chi2\n",
    "from sklearn.cross_validation import train_test_split\n",
    "from sklearn.decomposition import PCA\n",
    "from sklearn.neural_network import MLPClassifier\n",
    "from sklearn.naive_bayes import GaussianNB\n",
    "from sklearn.ensemble import GradientBoostingClassifier\n",
    "from sklearn.model_selection import cross_val_score\n",
    "from sklearn.metrics import f1_score, make_scorer\n",
    "\n",
    "my_scorer = make_scorer(f1_score, greater_is_better=True, average = 'macro')"
   ]
  },
  {
   "cell_type": "markdown",
   "metadata": {},
   "source": [
    "<b>K-Means clustering </b>"
   ]
  },
  {
   "cell_type": "code",
   "execution_count": 23,
   "metadata": {
    "collapsed": false
   },
   "outputs": [
    {
     "name": "stdout",
     "output_type": "stream",
     "text": [
      "[ 0.07270007  0.08017864  0.07585779  0.11346348  0.12441226]\n"
     ]
    }
   ],
   "source": [
    "from sklearn.cluster import KMeans\n",
    "km = KMeans(n_clusters=4, init='random')\n",
    "print cross_val_score(km, X, y, cv =5, scoring = my_scorer)\n"
   ]
  },
  {
   "cell_type": "markdown",
   "metadata": {},
   "source": [
    "From the scores we can see that k-means clustering fit this problem not well, this conform to the scatter plots above."
   ]
  },
  {
   "cell_type": "markdown",
   "metadata": {},
   "source": [
    "<b>Other classifiers</b>"
   ]
  },
  {
   "cell_type": "code",
   "execution_count": 68,
   "metadata": {
    "collapsed": true
   },
   "outputs": [],
   "source": [
    "def k5_fold_fit(X_df, y, score_df):\n",
    "    cv_ = 5\n",
    "    \n",
    "    knn = KNeighborsClassifier(n_neighbors=25, weights='distance', algorithm='ball_tree')\n",
    "    score_df['kNN'] = cross_val_score(knn, X, y, cv = cv_, scoring = my_scorer)\n",
    "\n",
    "    treeclf = DecisionTreeClassifier(max_depth=6, random_state=1)\n",
    "    score_df['Decision Tree'] = cross_val_score(treeclf, X, y, cv = cv_, scoring = my_scorer)\n",
    "    \n",
    "    mlp = MLPClassifier(solver='lbfgs', alpha=1e-5, hidden_layer_sizes=(4, 2), random_state=1)\n",
    "    score_df['Neural'] = cross_val_score(mlp, X, y, cv = cv_, scoring = my_scorer)\n",
    "    \n",
    "    # naive bayes\n",
    "    nb = GaussianNB()\n",
    "    score_df['Naive Bayes'] = cross_val_score(nb, X, y, cv = cv_, scoring = my_scorer)\n",
    "    \n",
    "    # Gradient Boosting\n",
    "    gbc = GradientBoostingClassifier(n_estimators=100, random_state=10)\n",
    "    score_df['Gradient Boosting'] = cross_val_score(gbc, X, y, cv = cv_, scoring = my_scorer)"
   ]
  },
  {
   "cell_type": "markdown",
   "metadata": {},
   "source": [
    "#### Fit models"
   ]
  },
  {
   "cell_type": "code",
   "execution_count": 87,
   "metadata": {
    "collapsed": false
   },
   "outputs": [
    {
     "name": "stdout",
     "output_type": "stream",
     "text": [
      "        kNN  Decision Tree    Neural  Naive Bayes  Gradient Boosting\n",
      "0  0.236270       0.294074  0.402347     0.188551           0.332090\n",
      "1  0.252074       0.329148  0.340572     0.130934           0.308287\n",
      "2  0.222785       0.340140  0.269994     0.136759           0.230314\n",
      "3  0.226434       0.196313  0.146965     0.059070           0.177778\n",
      "4  0.303032       0.243116  0.215838     0.123317           0.308050\n"
     ]
    },
    {
     "data": {
      "text/plain": [
       "kNN                  0.248119\n",
       "Decision Tree        0.280558\n",
       "Neural               0.275143\n",
       "Naive Bayes          0.127726\n",
       "Gradient Boosting    0.271304\n",
       "dtype: float64"
      ]
     },
     "execution_count": 87,
     "metadata": {},
     "output_type": "execute_result"
    }
   ],
   "source": [
    "score_all = pd.DataFrame(columns=['kNN','Decision Tree','Neural','Naive Bayes','Gradient Boosting'])\n",
    "k5_fold_fit(X, y, score_all)\n",
    "print score_all.head()\n",
    "score_all[score_all.columns[0:]].apply(np.mean, axis=0)"
   ]
  },
  {
   "cell_type": "markdown",
   "metadata": {},
   "source": [
    "We can see Neural network gives the highest score, 0.40, Navie Bayes gives the lowest score 0.05 and also the average score is only 0.13. Decision Tree is the winner averagely. Decision tree will be used to predict the test data."
   ]
  },
  {
   "cell_type": "markdown",
   "metadata": {},
   "source": [
    "### Use Decision Tree to predict test data"
   ]
  },
  {
   "cell_type": "code",
   "execution_count": 24,
   "metadata": {
    "collapsed": false
   },
   "outputs": [
    {
     "data": {
      "text/plain": [
       "DecisionTreeClassifier(class_weight=None, criterion='gini', max_depth=6,\n",
       "            max_features=None, max_leaf_nodes=None,\n",
       "            min_impurity_decrease=0.0, min_impurity_split=None,\n",
       "            min_samples_leaf=1, min_samples_split=2,\n",
       "            min_weight_fraction_leaf=0.0, presort=False, random_state=1,\n",
       "            splitter='best')"
      ]
     },
     "execution_count": 24,
     "metadata": {},
     "output_type": "execute_result"
    }
   ],
   "source": [
    "treeClf = DecisionTreeClassifier(max_depth=6, random_state=1)\n",
    "tree_model = treeClf.fit(X, y)\n",
    "tree_model"
   ]
  },
  {
   "cell_type": "markdown",
   "metadata": {},
   "source": [
    "Show the most important (top 10) variables"
   ]
  },
  {
   "cell_type": "code",
   "execution_count": 31,
   "metadata": {
    "collapsed": false
   },
   "outputs": [
    {
     "data": {
      "text/html": [
       "<div>\n",
       "<table border=\"1\" class=\"dataframe\">\n",
       "  <thead>\n",
       "    <tr style=\"text-align: right;\">\n",
       "      <th></th>\n",
       "      <th>importance</th>\n",
       "      <th>var</th>\n",
       "    </tr>\n",
       "  </thead>\n",
       "  <tbody>\n",
       "    <tr>\n",
       "      <th>111</th>\n",
       "      <td>0.257532</td>\n",
       "      <td>SQBmeaned</td>\n",
       "    </tr>\n",
       "    <tr>\n",
       "      <th>108</th>\n",
       "      <td>0.141578</td>\n",
       "      <td>SQBhogar_nin</td>\n",
       "    </tr>\n",
       "    <tr>\n",
       "      <th>114</th>\n",
       "      <td>0.126582</td>\n",
       "      <td>phones_per_person</td>\n",
       "    </tr>\n",
       "    <tr>\n",
       "      <th>110</th>\n",
       "      <td>0.066585</td>\n",
       "      <td>SQBdependency</td>\n",
       "    </tr>\n",
       "    <tr>\n",
       "      <th>115</th>\n",
       "      <td>0.038313</td>\n",
       "      <td>tablets_per_person</td>\n",
       "    </tr>\n",
       "    <tr>\n",
       "      <th>85</th>\n",
       "      <td>0.033712</td>\n",
       "      <td>hogar_adul</td>\n",
       "    </tr>\n",
       "    <tr>\n",
       "      <th>109</th>\n",
       "      <td>0.033578</td>\n",
       "      <td>SQBovercrowding</td>\n",
       "    </tr>\n",
       "    <tr>\n",
       "      <th>23</th>\n",
       "      <td>0.028735</td>\n",
       "      <td>pisomoscer</td>\n",
       "    </tr>\n",
       "    <tr>\n",
       "      <th>11</th>\n",
       "      <td>0.026677</td>\n",
       "      <td>r4t2</td>\n",
       "    </tr>\n",
       "    <tr>\n",
       "      <th>46</th>\n",
       "      <td>0.019775</td>\n",
       "      <td>energcocinar2</td>\n",
       "    </tr>\n",
       "  </tbody>\n",
       "</table>\n",
       "</div>"
      ],
      "text/plain": [
       "     importance                 var\n",
       "111    0.257532           SQBmeaned\n",
       "108    0.141578        SQBhogar_nin\n",
       "114    0.126582   phones_per_person\n",
       "110    0.066585       SQBdependency\n",
       "115    0.038313  tablets_per_person\n",
       "85     0.033712          hogar_adul\n",
       "109    0.033578     SQBovercrowding\n",
       "23     0.028735          pisomoscer\n",
       "11     0.026677                r4t2\n",
       "46     0.019775       energcocinar2"
      ]
     },
     "execution_count": 31,
     "metadata": {},
     "output_type": "execute_result"
    }
   ],
   "source": [
    "var_importances = pd.DataFrame({'var': X.columns, 'importance': treeClf.feature_importances_})\n",
    "var_importances.sort_values('importance', ascending=False).head(10)"
   ]
  },
  {
   "cell_type": "markdown",
   "metadata": {},
   "source": [
    "Perform the same process to prepare test data"
   ]
  },
  {
   "cell_type": "code",
   "execution_count": 102,
   "metadata": {
    "collapsed": false
   },
   "outputs": [
    {
     "name": "stdout",
     "output_type": "stream",
     "text": [
      "There are NA in variables: \n",
      "Index([u'v2a1', u'v18q1', u'rez_esc', u'meaneduc', u'SQBmeaned'], dtype='object')\n"
     ]
    },
    {
     "data": {
      "text/html": [
       "<div>\n",
       "<table border=\"1\" class=\"dataframe\">\n",
       "  <thead>\n",
       "    <tr style=\"text-align: right;\">\n",
       "      <th></th>\n",
       "      <th>Id</th>\n",
       "      <th>v2a1</th>\n",
       "      <th>hacdor</th>\n",
       "      <th>rooms</th>\n",
       "      <th>hacapo</th>\n",
       "      <th>v14a</th>\n",
       "      <th>refrig</th>\n",
       "      <th>v18q</th>\n",
       "      <th>v18q1</th>\n",
       "      <th>r4h1</th>\n",
       "      <th>...</th>\n",
       "      <th>age</th>\n",
       "      <th>SQBescolari</th>\n",
       "      <th>SQBage</th>\n",
       "      <th>SQBhogar_total</th>\n",
       "      <th>SQBedjefe</th>\n",
       "      <th>SQBhogar_nin</th>\n",
       "      <th>SQBovercrowding</th>\n",
       "      <th>SQBdependency</th>\n",
       "      <th>SQBmeaned</th>\n",
       "      <th>agesq</th>\n",
       "    </tr>\n",
       "  </thead>\n",
       "  <tbody>\n",
       "    <tr>\n",
       "      <th>0</th>\n",
       "      <td>ID_2f6873615</td>\n",
       "      <td>0</td>\n",
       "      <td>0</td>\n",
       "      <td>5</td>\n",
       "      <td>0</td>\n",
       "      <td>1</td>\n",
       "      <td>1</td>\n",
       "      <td>0</td>\n",
       "      <td>0</td>\n",
       "      <td>1</td>\n",
       "      <td>...</td>\n",
       "      <td>4</td>\n",
       "      <td>0</td>\n",
       "      <td>16</td>\n",
       "      <td>9</td>\n",
       "      <td>0</td>\n",
       "      <td>1</td>\n",
       "      <td>2.25</td>\n",
       "      <td>0.25</td>\n",
       "      <td>272.250000</td>\n",
       "      <td>16</td>\n",
       "    </tr>\n",
       "    <tr>\n",
       "      <th>1</th>\n",
       "      <td>ID_1c78846d2</td>\n",
       "      <td>0</td>\n",
       "      <td>0</td>\n",
       "      <td>5</td>\n",
       "      <td>0</td>\n",
       "      <td>1</td>\n",
       "      <td>1</td>\n",
       "      <td>0</td>\n",
       "      <td>0</td>\n",
       "      <td>1</td>\n",
       "      <td>...</td>\n",
       "      <td>41</td>\n",
       "      <td>256</td>\n",
       "      <td>1681</td>\n",
       "      <td>9</td>\n",
       "      <td>0</td>\n",
       "      <td>1</td>\n",
       "      <td>2.25</td>\n",
       "      <td>0.25</td>\n",
       "      <td>272.250000</td>\n",
       "      <td>1681</td>\n",
       "    </tr>\n",
       "    <tr>\n",
       "      <th>2</th>\n",
       "      <td>ID_e5442cf6a</td>\n",
       "      <td>0</td>\n",
       "      <td>0</td>\n",
       "      <td>5</td>\n",
       "      <td>0</td>\n",
       "      <td>1</td>\n",
       "      <td>1</td>\n",
       "      <td>0</td>\n",
       "      <td>0</td>\n",
       "      <td>1</td>\n",
       "      <td>...</td>\n",
       "      <td>41</td>\n",
       "      <td>289</td>\n",
       "      <td>1681</td>\n",
       "      <td>9</td>\n",
       "      <td>0</td>\n",
       "      <td>1</td>\n",
       "      <td>2.25</td>\n",
       "      <td>0.25</td>\n",
       "      <td>272.250000</td>\n",
       "      <td>1681</td>\n",
       "    </tr>\n",
       "    <tr>\n",
       "      <th>3</th>\n",
       "      <td>ID_a8db26a79</td>\n",
       "      <td>0</td>\n",
       "      <td>0</td>\n",
       "      <td>14</td>\n",
       "      <td>0</td>\n",
       "      <td>1</td>\n",
       "      <td>1</td>\n",
       "      <td>1</td>\n",
       "      <td>1</td>\n",
       "      <td>0</td>\n",
       "      <td>...</td>\n",
       "      <td>59</td>\n",
       "      <td>256</td>\n",
       "      <td>3481</td>\n",
       "      <td>1</td>\n",
       "      <td>256</td>\n",
       "      <td>0</td>\n",
       "      <td>1.00</td>\n",
       "      <td>0.00</td>\n",
       "      <td>256.000000</td>\n",
       "      <td>3481</td>\n",
       "    </tr>\n",
       "    <tr>\n",
       "      <th>4</th>\n",
       "      <td>ID_a62966799</td>\n",
       "      <td>175000</td>\n",
       "      <td>0</td>\n",
       "      <td>4</td>\n",
       "      <td>0</td>\n",
       "      <td>1</td>\n",
       "      <td>1</td>\n",
       "      <td>1</td>\n",
       "      <td>1</td>\n",
       "      <td>0</td>\n",
       "      <td>...</td>\n",
       "      <td>18</td>\n",
       "      <td>121</td>\n",
       "      <td>324</td>\n",
       "      <td>1</td>\n",
       "      <td>0</td>\n",
       "      <td>1</td>\n",
       "      <td>0.25</td>\n",
       "      <td>64.00</td>\n",
       "      <td>83.859336</td>\n",
       "      <td>324</td>\n",
       "    </tr>\n",
       "  </tbody>\n",
       "</table>\n",
       "<p>5 rows × 142 columns</p>\n",
       "</div>"
      ],
      "text/plain": [
       "             Id    v2a1  hacdor  rooms  hacapo  v14a  refrig  v18q  v18q1  \\\n",
       "0  ID_2f6873615       0       0      5       0     1       1     0      0   \n",
       "1  ID_1c78846d2       0       0      5       0     1       1     0      0   \n",
       "2  ID_e5442cf6a       0       0      5       0     1       1     0      0   \n",
       "3  ID_a8db26a79       0       0     14       0     1       1     1      1   \n",
       "4  ID_a62966799  175000       0      4       0     1       1     1      1   \n",
       "\n",
       "   r4h1  ...    age  SQBescolari  SQBage  SQBhogar_total  SQBedjefe  \\\n",
       "0     1  ...      4            0      16               9          0   \n",
       "1     1  ...     41          256    1681               9          0   \n",
       "2     1  ...     41          289    1681               9          0   \n",
       "3     0  ...     59          256    3481               1        256   \n",
       "4     0  ...     18          121     324               1          0   \n",
       "\n",
       "   SQBhogar_nin  SQBovercrowding  SQBdependency   SQBmeaned  agesq  \n",
       "0             1             2.25           0.25  272.250000     16  \n",
       "1             1             2.25           0.25  272.250000   1681  \n",
       "2             1             2.25           0.25  272.250000   1681  \n",
       "3             0             1.00           0.00  256.000000   3481  \n",
       "4             1             0.25          64.00   83.859336    324  \n",
       "\n",
       "[5 rows x 142 columns]"
      ]
     },
     "execution_count": 102,
     "metadata": {},
     "output_type": "execute_result"
    }
   ],
   "source": [
    "raw_test = hh_load_data('test.csv')\n",
    "submission = raw_test[['Id', 'idhogar']]\n",
    "hh_fill_na(raw_test)\n",
    "raw_test.head()"
   ]
  },
  {
   "cell_type": "code",
   "execution_count": 103,
   "metadata": {
    "collapsed": true
   },
   "outputs": [],
   "source": [
    "raw_test.set_index('Id', inplace=True)\n",
    "raw_test.index.name = None\n",
    "raw_test.drop(optout_vars, axis=1, inplace=True)\n",
    "raw_test.drop([u'v18q', u'tamhog', u'area2', 'female'], axis=1, inplace=True)    \n",
    "create_per_person_vars(raw_test)\n",
    "raw_test.drop(inst_levels, axis=1, inplace=True)\n",
    "raw_test.drop([u'coopele', u'SQBage'], axis=1, inplace=True)"
   ]
  },
  {
   "cell_type": "markdown",
   "metadata": {},
   "source": [
    "As we need to give every household the same label, we just predict the records of household head. For all no household head, set target '3' because the bar chart of 'Distribution of Poverty Levels without Head' shows almost all are 3, only one is 4, and there is no 1 and 2."
   ]
  },
  {
   "cell_type": "code",
   "execution_count": 104,
   "metadata": {
    "collapsed": false,
    "scrolled": true
   },
   "outputs": [
    {
     "data": {
      "text/html": [
       "<div>\n",
       "<table border=\"1\" class=\"dataframe\">\n",
       "  <thead>\n",
       "    <tr style=\"text-align: right;\">\n",
       "      <th></th>\n",
       "      <th>hacdor</th>\n",
       "      <th>hacapo</th>\n",
       "      <th>v14a</th>\n",
       "      <th>refrig</th>\n",
       "      <th>r4h1</th>\n",
       "      <th>r4h2</th>\n",
       "      <th>r4h3</th>\n",
       "      <th>r4m1</th>\n",
       "      <th>r4m2</th>\n",
       "      <th>r4m3</th>\n",
       "      <th>...</th>\n",
       "      <th>SQBedjefe</th>\n",
       "      <th>SQBhogar_nin</th>\n",
       "      <th>SQBovercrowding</th>\n",
       "      <th>SQBdependency</th>\n",
       "      <th>SQBmeaned</th>\n",
       "      <th>size_per_person</th>\n",
       "      <th>rent_per_person</th>\n",
       "      <th>phones_per_person</th>\n",
       "      <th>tablets_per_person</th>\n",
       "      <th>rooms_per_person</th>\n",
       "    </tr>\n",
       "  </thead>\n",
       "  <tbody>\n",
       "    <tr>\n",
       "      <th>ID_e5442cf6a</th>\n",
       "      <td>0</td>\n",
       "      <td>0</td>\n",
       "      <td>1</td>\n",
       "      <td>1</td>\n",
       "      <td>0.166667</td>\n",
       "      <td>0.142857</td>\n",
       "      <td>0.285714</td>\n",
       "      <td>0</td>\n",
       "      <td>0.125</td>\n",
       "      <td>0.111111</td>\n",
       "      <td>...</td>\n",
       "      <td>0.000000</td>\n",
       "      <td>0.01</td>\n",
       "      <td>0.013194</td>\n",
       "      <td>0.003906</td>\n",
       "      <td>0.210069</td>\n",
       "      <td>1</td>\n",
       "      <td>0.000000</td>\n",
       "      <td>0.133333</td>\n",
       "      <td>0.000000</td>\n",
       "      <td>0.106529</td>\n",
       "    </tr>\n",
       "    <tr>\n",
       "      <th>ID_a8db26a79</th>\n",
       "      <td>0</td>\n",
       "      <td>0</td>\n",
       "      <td>1</td>\n",
       "      <td>1</td>\n",
       "      <td>0.000000</td>\n",
       "      <td>0.142857</td>\n",
       "      <td>0.142857</td>\n",
       "      <td>0</td>\n",
       "      <td>0.000</td>\n",
       "      <td>0.000000</td>\n",
       "      <td>...</td>\n",
       "      <td>0.580499</td>\n",
       "      <td>0.00</td>\n",
       "      <td>0.005797</td>\n",
       "      <td>0.000000</td>\n",
       "      <td>0.197531</td>\n",
       "      <td>1</td>\n",
       "      <td>0.000000</td>\n",
       "      <td>0.400000</td>\n",
       "      <td>0.333333</td>\n",
       "      <td>0.932990</td>\n",
       "    </tr>\n",
       "    <tr>\n",
       "      <th>ID_a62966799</th>\n",
       "      <td>0</td>\n",
       "      <td>0</td>\n",
       "      <td>1</td>\n",
       "      <td>1</td>\n",
       "      <td>0.000000</td>\n",
       "      <td>0.000000</td>\n",
       "      <td>0.000000</td>\n",
       "      <td>0</td>\n",
       "      <td>0.125</td>\n",
       "      <td>0.111111</td>\n",
       "      <td>...</td>\n",
       "      <td>0.000000</td>\n",
       "      <td>0.01</td>\n",
       "      <td>0.001359</td>\n",
       "      <td>1.000000</td>\n",
       "      <td>0.064706</td>\n",
       "      <td>1</td>\n",
       "      <td>0.184036</td>\n",
       "      <td>0.200000</td>\n",
       "      <td>0.333333</td>\n",
       "      <td>0.262887</td>\n",
       "    </tr>\n",
       "    <tr>\n",
       "      <th>ID_3c5f4bd51</th>\n",
       "      <td>0</td>\n",
       "      <td>0</td>\n",
       "      <td>1</td>\n",
       "      <td>1</td>\n",
       "      <td>0.000000</td>\n",
       "      <td>0.000000</td>\n",
       "      <td>0.000000</td>\n",
       "      <td>0</td>\n",
       "      <td>0.250</td>\n",
       "      <td>0.222222</td>\n",
       "      <td>...</td>\n",
       "      <td>0.000000</td>\n",
       "      <td>0.00</td>\n",
       "      <td>0.005797</td>\n",
       "      <td>0.000000</td>\n",
       "      <td>0.140625</td>\n",
       "      <td>1</td>\n",
       "      <td>0.210327</td>\n",
       "      <td>0.100000</td>\n",
       "      <td>0.166667</td>\n",
       "      <td>0.095361</td>\n",
       "    </tr>\n",
       "    <tr>\n",
       "      <th>ID_472fa82da</th>\n",
       "      <td>0</td>\n",
       "      <td>0</td>\n",
       "      <td>1</td>\n",
       "      <td>1</td>\n",
       "      <td>0.000000</td>\n",
       "      <td>0.000000</td>\n",
       "      <td>0.000000</td>\n",
       "      <td>0</td>\n",
       "      <td>0.250</td>\n",
       "      <td>0.222222</td>\n",
       "      <td>...</td>\n",
       "      <td>0.000000</td>\n",
       "      <td>0.00</td>\n",
       "      <td>0.001359</td>\n",
       "      <td>0.000000</td>\n",
       "      <td>0.151235</td>\n",
       "      <td>1</td>\n",
       "      <td>0.157745</td>\n",
       "      <td>0.200000</td>\n",
       "      <td>0.166667</td>\n",
       "      <td>0.195876</td>\n",
       "    </tr>\n",
       "  </tbody>\n",
       "</table>\n",
       "<p>5 rows × 117 columns</p>\n",
       "</div>"
      ],
      "text/plain": [
       "              hacdor  hacapo  v14a  refrig      r4h1      r4h2      r4h3  \\\n",
       "ID_e5442cf6a       0       0     1       1  0.166667  0.142857  0.285714   \n",
       "ID_a8db26a79       0       0     1       1  0.000000  0.142857  0.142857   \n",
       "ID_a62966799       0       0     1       1  0.000000  0.000000  0.000000   \n",
       "ID_3c5f4bd51       0       0     1       1  0.000000  0.000000  0.000000   \n",
       "ID_472fa82da       0       0     1       1  0.000000  0.000000  0.000000   \n",
       "\n",
       "              r4m1   r4m2      r4m3        ...         SQBedjefe  \\\n",
       "ID_e5442cf6a     0  0.125  0.111111        ...          0.000000   \n",
       "ID_a8db26a79     0  0.000  0.000000        ...          0.580499   \n",
       "ID_a62966799     0  0.125  0.111111        ...          0.000000   \n",
       "ID_3c5f4bd51     0  0.250  0.222222        ...          0.000000   \n",
       "ID_472fa82da     0  0.250  0.222222        ...          0.000000   \n",
       "\n",
       "              SQBhogar_nin  SQBovercrowding  SQBdependency  SQBmeaned  \\\n",
       "ID_e5442cf6a          0.01         0.013194       0.003906   0.210069   \n",
       "ID_a8db26a79          0.00         0.005797       0.000000   0.197531   \n",
       "ID_a62966799          0.01         0.001359       1.000000   0.064706   \n",
       "ID_3c5f4bd51          0.00         0.005797       0.000000   0.140625   \n",
       "ID_472fa82da          0.00         0.001359       0.000000   0.151235   \n",
       "\n",
       "              size_per_person  rent_per_person  phones_per_person  \\\n",
       "ID_e5442cf6a                1         0.000000           0.133333   \n",
       "ID_a8db26a79                1         0.000000           0.400000   \n",
       "ID_a62966799                1         0.184036           0.200000   \n",
       "ID_3c5f4bd51                1         0.210327           0.100000   \n",
       "ID_472fa82da                1         0.157745           0.200000   \n",
       "\n",
       "              tablets_per_person  rooms_per_person  \n",
       "ID_e5442cf6a            0.000000          0.106529  \n",
       "ID_a8db26a79            0.333333          0.932990  \n",
       "ID_a62966799            0.333333          0.262887  \n",
       "ID_3c5f4bd51            0.166667          0.095361  \n",
       "ID_472fa82da            0.166667          0.195876  \n",
       "\n",
       "[5 rows x 117 columns]"
      ]
     },
     "execution_count": 104,
     "metadata": {},
     "output_type": "execute_result"
    }
   ],
   "source": [
    "test_df = raw_test[raw_test.parentesco1==1]\n",
    "idhogar = test_df.idhogar.values\n",
    "test_df.drop(['idhogar'], axis=1, inplace=True)\n",
    "hh_normalize(test_df)\n",
    "test_df.head(5)"
   ]
  },
  {
   "cell_type": "code",
   "execution_count": 105,
   "metadata": {
    "collapsed": false
   },
   "outputs": [],
   "source": [
    "result = tree_model.predict(test_df)\n",
    "p_dict = {}\n",
    "for i in range(len(idhogar)):\n",
    "    p_dict[idhogar[i]] = result[i]\n",
    "    \n",
    "def map_target(v):\n",
    "    if p_dict.has_key(v):\n",
    "        return p_dict[v]\n",
    "    else:\n",
    "        return 3\n",
    "\n",
    "submission['Target'] = submission[[\"idhogar\"]].applymap(map_target)\n",
    "submission.drop(['idhogar'], axis=1, inplace=True)\n",
    "submission.to_csv('bevan_submission.csv', index=False)"
   ]
  },
  {
   "cell_type": "markdown",
   "metadata": {
    "collapsed": true
   },
   "source": [
    "### Conclusion\n"
   ]
  },
  {
   "cell_type": "markdown",
   "metadata": {},
   "source": [
    "Kaggle score and leaderboard screen snapshot as below. There is a significant gap between my result and the board leaders. There are much spaces to improve for Data EDA, features selection and model optimization."
   ]
  },
  {
   "cell_type": "markdown",
   "metadata": {},
   "source": [
    "<img src=score.JPG width=1000>"
   ]
  },
  {
   "cell_type": "markdown",
   "metadata": {},
   "source": [
    "I submitted second time with this notebook after the competition completed and got a higher score as below\n",
    "<img src=second.JPG width=1000>"
   ]
  },
  {
   "cell_type": "code",
   "execution_count": null,
   "metadata": {
    "collapsed": true
   },
   "outputs": [],
   "source": []
  }
 ],
 "metadata": {
  "kernelspec": {
   "display_name": "Python 2",
   "language": "python",
   "name": "python2"
  },
  "language_info": {
   "codemirror_mode": {
    "name": "ipython",
    "version": 2
   },
   "file_extension": ".py",
   "mimetype": "text/x-python",
   "name": "python",
   "nbconvert_exporter": "python",
   "pygments_lexer": "ipython2",
   "version": "2.7.10"
  }
 },
 "nbformat": 4,
 "nbformat_minor": 1
}
